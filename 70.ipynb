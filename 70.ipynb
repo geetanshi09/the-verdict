{
  "nbformat": 4,
  "nbformat_minor": 0,
  "metadata": {
    "colab": {
      "provenance": [],
      "gpuType": "T4",
      "authorship_tag": "ABX9TyMVXVWsQIL3SufoEzmZN4Wb",
      "include_colab_link": true
    },
    "kernelspec": {
      "name": "python3",
      "display_name": "Python 3"
    },
    "language_info": {
      "name": "python"
    },
    "accelerator": "GPU"
  },
  "cells": [
    {
      "cell_type": "markdown",
      "metadata": {
        "id": "view-in-github",
        "colab_type": "text"
      },
      "source": [
        "<a href=\"https://colab.research.google.com/github/Weirdo-001/FundRaise/blob/main/70.ipynb\" target=\"_parent\"><img src=\"https://colab.research.google.com/assets/colab-badge.svg\" alt=\"Open In Colab\"/></a>"
      ]
    },
    {
      "cell_type": "code",
      "execution_count": 1,
      "metadata": {
        "colab": {
          "base_uri": "https://localhost:8080/"
        },
        "id": "4nloWDal3E_8",
        "outputId": "b19f1891-9978-4029-c502-6cc3776ac108"
      },
      "outputs": [
        {
          "output_type": "stream",
          "name": "stdout",
          "text": [
            "Mounted at /content/drive\n"
          ]
        }
      ],
      "source": [
        "from google.colab import drive\n",
        "drive.mount('/content/drive')"
      ]
    },
    {
      "cell_type": "code",
      "source": [
        "SCRIPTS_ZIP_PATH = \"/content/drive/MyDrive/Hackathon2_scripts.zip\"\n",
        "DATASET_ZIP_PATH = \"/content/drive/MyDrive/datasets.zip\"\n",
        "\n",
        "!mkdir -p /content/hackathon_scripts\n",
        "!mkdir -p /content/datasets\n",
        "\n",
        "!cp \"{SCRIPTS_ZIP_PATH}\" /content/\n",
        "!cp \"{DATASET_ZIP_PATH}\" /content/\n",
        "\n",
        "!unzip -qo /content/Hackathon2_scripts.zip -d /content/hackathon_scripts\n",
        "!unzip -qo /content/datasets.zip -d /content/datasets\n",
        "\n",
        "!ls /content/hackathon_scripts\n",
        "!ls /content/datasets\n",
        "!ls /content/datasets/datasets/train/images | head -n 5\n"
      ],
      "metadata": {
        "colab": {
          "base_uri": "https://localhost:8080/"
        },
        "id": "aeZ1Kj8v3-B2",
        "outputId": "7a522f1e-aa70-41de-a011-8552320bbd69"
      },
      "execution_count": 2,
      "outputs": [
        {
          "output_type": "stream",
          "name": "stdout",
          "text": [
            "Hackathon2_scripts\n",
            "datasets\n",
            "000000000_cluttered_hallway.png\n",
            "000000000_cluttered_room.png\n",
            "000000000_light_cluttered_room.png\n",
            "000000001_light_cluttered.png\n",
            "000000001_light_cluttered_room.png\n"
          ]
        }
      ]
    },
    {
      "cell_type": "code",
      "source": [
        "!pip install -q ultralytics==8.2.10 matplotlib seaborn opencv-python tqdm pyyaml\n",
        "!pip install -q -U ultralytics\n",
        "\n",
        "import ultralytics\n",
        "ultralytics.checks()"
      ],
      "metadata": {
        "colab": {
          "base_uri": "https://localhost:8080/"
        },
        "id": "98IcBwe74f4x",
        "outputId": "acc82fb8-3f56-4c12-9e7b-a871953ccb9d"
      },
      "execution_count": 3,
      "outputs": [
        {
          "output_type": "stream",
          "name": "stdout",
          "text": [
            "Ultralytics 8.3.214 🚀 Python-3.12.12 torch-2.8.0+cu126 CUDA:0 (Tesla T4, 15095MiB)\n",
            "Setup complete ✅ (2 CPUs, 12.7 GB RAM, 68.8/112.6 GB disk)\n"
          ]
        }
      ]
    },
    {
      "cell_type": "code",
      "source": [
        "data_yaml_content = {\n",
        "    'train': '/content/datasets/datasets/train/images',\n",
        "    'val': '/content/datasets/datasets/val/images',\n",
        "    'test': '/content/datasets/datasets/test/images',\n",
        "    'nc': 7,\n",
        "    'names': ['OxygenTank', 'NitrogenTank', 'FirstAidBox', 'FireAlarm',\n",
        "              'SafetySwitchPanel', 'EmergencyPhone', 'FireExtinguisher']\n",
        "}\n",
        "\n",
        "\n"
      ],
      "metadata": {
        "id": "5VcigX0y5Jgp"
      },
      "execution_count": 4,
      "outputs": []
    },
    {
      "cell_type": "code",
      "source": [
        "import yaml\n",
        "data_yaml_path = \"/content/datasets/data.yaml\"\n",
        "with open(data_yaml_path, \"w\") as f:\n",
        "    yaml.dump(data_yaml_content, f)\n",
        "print(\"✅ data.yaml created at\", data_yaml_path)"
      ],
      "metadata": {
        "colab": {
          "base_uri": "https://localhost:8080/"
        },
        "id": "41JNsPHo5M5B",
        "outputId": "c0000bfd-1795-4303-f98d-a3b915b0da2a"
      },
      "execution_count": 5,
      "outputs": [
        {
          "output_type": "stream",
          "name": "stdout",
          "text": [
            "✅ data.yaml created at /content/datasets/data.yaml\n"
          ]
        }
      ]
    },
    {
      "cell_type": "code",
      "source": [
        "!rm -f yolov8m.pt\n",
        "!curl -L https://github.com/ultralytics/assets/releases/download/v8.2.0/yolov8m.pt -o yolov8m.pt\n",
        "print(\"✅ Pretrained YOLOv8m weights downloaded\")"
      ],
      "metadata": {
        "colab": {
          "base_uri": "https://localhost:8080/"
        },
        "id": "Wnz1T5B9-AZD",
        "outputId": "7f47f129-ebdb-4417-b1a3-1d7012c18d81"
      },
      "execution_count": 6,
      "outputs": [
        {
          "output_type": "stream",
          "name": "stdout",
          "text": [
            "  % Total    % Received % Xferd  Average Speed   Time    Time     Time  Current\n",
            "                                 Dload  Upload   Total   Spent    Left  Speed\n",
            "  0     0    0     0    0     0      0      0 --:--:-- --:--:-- --:--:--     0\n",
            "100 49.7M  100 49.7M    0     0  36.5M      0  0:00:01  0:00:01 --:--:-- 60.9M\n",
            "✅ Pretrained YOLOv8m weights downloaded\n"
          ]
        }
      ]
    },
    {
      "cell_type": "code",
      "source": [
        "from ultralytics import YOLO\n",
        "model = YOLO(\"yolov8m.pt\")"
      ],
      "metadata": {
        "id": "dyOke7d45QeZ"
      },
      "execution_count": 7,
      "outputs": []
    },
    {
      "cell_type": "code",
      "source": [
        "EPOCHS = 30                  # More epochs for better learning\n",
        "BATCH = 16                    # Reduce if GPU OOM occurs\n",
        "IMGSZ = 640\n",
        "MOSAIC = 0.7\n",
        "MIXUP = 0.2\n",
        "LR0 = 0.0003\n",
        "LRF = 0.01\n",
        "\n",
        "# 🔹 7️⃣ Advanced augmentation & safe training config\n",
        "results = model.train(\n",
        "    data=data_yaml_path,\n",
        "    model=\"yolov8m.pt\",\n",
        "    epochs=EPOCHS,\n",
        "    batch=BATCH,\n",
        "    imgsz=IMGSZ,\n",
        "    augment=True,         # basic augmentation\n",
        "    mosaic=MOSAIC,        # mosaic augmentation\n",
        "    mixup=MIXUP,          # mixup augmentation\n",
        "    lr0=LR0,\n",
        "    lrf=LRF,\n",
        "    patience=10,          # early stopping\n",
        "    flipud=0.5,           # vertical flip\n",
        "    fliplr=0.5,           # horizontal flip\n",
        "    hsv_h=0.015,          # HSV augmentation\n",
        "    hsv_s=0.7,\n",
        "    hsv_v=0.4,\n",
        "    box=7.5,              # default box loss gain\n",
        "    device=0,             # GPU\n",
        "    save_period=1,        # Save checkpoints each epoch\n",
        "    cache=True,           # Cache images for speed (if memory allows)\n",
        "    workers=4,            # parallel data loading\n",
        ")\n",
        "\n",
        "print(\"✅ Training completed!\")\n"
      ],
      "metadata": {
        "colab": {
          "base_uri": "https://localhost:8080/"
        },
        "id": "V0Xhvf095WOF",
        "outputId": "dcfcc8a9-5917-43f8-bd88-e0273312509d"
      },
      "execution_count": 8,
      "outputs": [
        {
          "output_type": "stream",
          "name": "stdout",
          "text": [
            "Ultralytics 8.3.214 🚀 Python-3.12.12 torch-2.8.0+cu126 CUDA:0 (Tesla T4, 15095MiB)\n",
            "\u001b[34m\u001b[1mengine/trainer: \u001b[0magnostic_nms=False, amp=True, augment=True, auto_augment=randaugment, batch=16, bgr=0.0, box=7.5, cache=True, cfg=None, classes=None, close_mosaic=10, cls=0.5, compile=False, conf=None, copy_paste=0.0, copy_paste_mode=flip, cos_lr=False, cutmix=0.0, data=/content/datasets/data.yaml, degrees=0.0, deterministic=True, device=0, dfl=1.5, dnn=False, dropout=0.0, dynamic=False, embed=None, epochs=30, erasing=0.4, exist_ok=False, fliplr=0.5, flipud=0.5, format=torchscript, fraction=1.0, freeze=None, half=False, hsv_h=0.015, hsv_s=0.7, hsv_v=0.4, imgsz=640, int8=False, iou=0.7, keras=False, kobj=1.0, line_width=None, lr0=0.0003, lrf=0.01, mask_ratio=4, max_det=300, mixup=0.2, mode=train, model=yolov8m.pt, momentum=0.937, mosaic=0.7, multi_scale=False, name=train, nbs=64, nms=False, opset=None, optimize=False, optimizer=auto, overlap_mask=True, patience=10, perspective=0.0, plots=True, pose=12.0, pretrained=True, profile=False, project=None, rect=False, resume=False, retina_masks=False, save=True, save_conf=False, save_crop=False, save_dir=/content/runs/detect/train, save_frames=False, save_json=False, save_period=1, save_txt=False, scale=0.5, seed=0, shear=0.0, show=False, show_boxes=True, show_conf=True, show_labels=True, simplify=True, single_cls=False, source=None, split=val, stream_buffer=False, task=detect, time=None, tracker=botsort.yaml, translate=0.1, val=True, verbose=True, vid_stride=1, visualize=False, warmup_bias_lr=0.1, warmup_epochs=3.0, warmup_momentum=0.8, weight_decay=0.0005, workers=4, workspace=None\n",
            "\u001b[KDownloading https://ultralytics.com/assets/Arial.ttf to '/root/.config/Ultralytics/Arial.ttf': 100% ━━━━━━━━━━━━ 755.1KB 25.9MB/s 0.0s\n",
            "Overriding model.yaml nc=80 with nc=7\n",
            "\n",
            "                   from  n    params  module                                       arguments                     \n",
            "  0                  -1  1      1392  ultralytics.nn.modules.conv.Conv             [3, 48, 3, 2]                 \n",
            "  1                  -1  1     41664  ultralytics.nn.modules.conv.Conv             [48, 96, 3, 2]                \n",
            "  2                  -1  2    111360  ultralytics.nn.modules.block.C2f             [96, 96, 2, True]             \n",
            "  3                  -1  1    166272  ultralytics.nn.modules.conv.Conv             [96, 192, 3, 2]               \n",
            "  4                  -1  4    813312  ultralytics.nn.modules.block.C2f             [192, 192, 4, True]           \n",
            "  5                  -1  1    664320  ultralytics.nn.modules.conv.Conv             [192, 384, 3, 2]              \n",
            "  6                  -1  4   3248640  ultralytics.nn.modules.block.C2f             [384, 384, 4, True]           \n",
            "  7                  -1  1   1991808  ultralytics.nn.modules.conv.Conv             [384, 576, 3, 2]              \n",
            "  8                  -1  2   3985920  ultralytics.nn.modules.block.C2f             [576, 576, 2, True]           \n",
            "  9                  -1  1    831168  ultralytics.nn.modules.block.SPPF            [576, 576, 5]                 \n",
            " 10                  -1  1         0  torch.nn.modules.upsampling.Upsample         [None, 2, 'nearest']          \n",
            " 11             [-1, 6]  1         0  ultralytics.nn.modules.conv.Concat           [1]                           \n",
            " 12                  -1  2   1993728  ultralytics.nn.modules.block.C2f             [960, 384, 2]                 \n",
            " 13                  -1  1         0  torch.nn.modules.upsampling.Upsample         [None, 2, 'nearest']          \n",
            " 14             [-1, 4]  1         0  ultralytics.nn.modules.conv.Concat           [1]                           \n",
            " 15                  -1  2    517632  ultralytics.nn.modules.block.C2f             [576, 192, 2]                 \n",
            " 16                  -1  1    332160  ultralytics.nn.modules.conv.Conv             [192, 192, 3, 2]              \n",
            " 17            [-1, 12]  1         0  ultralytics.nn.modules.conv.Concat           [1]                           \n",
            " 18                  -1  2   1846272  ultralytics.nn.modules.block.C2f             [576, 384, 2]                 \n",
            " 19                  -1  1   1327872  ultralytics.nn.modules.conv.Conv             [384, 384, 3, 2]              \n",
            " 20             [-1, 9]  1         0  ultralytics.nn.modules.conv.Concat           [1]                           \n",
            " 21                  -1  2   4207104  ultralytics.nn.modules.block.C2f             [960, 576, 2]                 \n",
            " 22        [15, 18, 21]  1   3779749  ultralytics.nn.modules.head.Detect           [7, [192, 384, 576]]          \n",
            "Model summary: 169 layers, 25,860,373 parameters, 25,860,357 gradients, 79.1 GFLOPs\n",
            "\n",
            "Transferred 469/475 items from pretrained weights\n",
            "Freezing layer 'model.22.dfl.conv.weight'\n",
            "\u001b[34m\u001b[1mAMP: \u001b[0mrunning Automatic Mixed Precision (AMP) checks...\n",
            "\u001b[KDownloading https://github.com/ultralytics/assets/releases/download/v8.3.0/yolo11n.pt to 'yolo11n.pt': 100% ━━━━━━━━━━━━ 5.4MB 97.6MB/s 0.1s\n",
            "\u001b[34m\u001b[1mAMP: \u001b[0mchecks passed ✅\n",
            "\u001b[34m\u001b[1mtrain: \u001b[0mFast image access ✅ (ping: 0.0±0.0 ms, read: 707.4±1358.1 MB/s, size: 3093.0 KB)\n",
            "\u001b[K\u001b[34m\u001b[1mtrain: \u001b[0mScanning /content/datasets/datasets/train/labels... 1769 images, 0 backgrounds, 0 corrupt: 100% ━━━━━━━━━━━━ 1769/1769 73.4it/s 24.1s\n",
            "\u001b[34m\u001b[1mtrain: \u001b[0mNew cache created: /content/datasets/datasets/train/labels.cache\n",
            "WARNING ⚠️ cache='ram' may produce non-deterministic training results. Consider cache='disk' as a deterministic alternative if your disk space allows.\n",
            "\u001b[K\u001b[34m\u001b[1mtrain: \u001b[0mCaching images (1.1GB RAM): 100% ━━━━━━━━━━━━ 1769/1769 13.3it/s 2:13\n",
            "\u001b[34m\u001b[1malbumentations: \u001b[0mBlur(p=0.01, blur_limit=(3, 7)), MedianBlur(p=0.01, blur_limit=(3, 7)), ToGray(p=0.01, method='weighted_average', num_output_channels=3), CLAHE(p=0.01, clip_limit=(1.0, 4.0), tile_grid_size=(8, 8))\n",
            "\u001b[34m\u001b[1mval: \u001b[0mFast image access ✅ (ping: 0.0±0.0 ms, read: 145.1±31.5 MB/s, size: 2729.2 KB)\n",
            "\u001b[K\u001b[34m\u001b[1mval: \u001b[0mScanning /content/datasets/datasets/val/labels... 338 images, 15 backgrounds, 0 corrupt: 100% ━━━━━━━━━━━━ 338/338 53.9it/s 6.3s\n",
            "\u001b[34m\u001b[1mval: \u001b[0mNew cache created: /content/datasets/datasets/val/labels.cache\n",
            "WARNING ⚠️ cache='ram' may produce non-deterministic training results. Consider cache='disk' as a deterministic alternative if your disk space allows.\n",
            "\u001b[K\u001b[34m\u001b[1mval: \u001b[0mCaching images (0.2GB RAM): 100% ━━━━━━━━━━━━ 338/338 17.0it/s 19.9s\n",
            "Plotting labels to /content/runs/detect/train/labels.jpg... \n",
            "\u001b[34m\u001b[1moptimizer:\u001b[0m 'optimizer=auto' found, ignoring 'lr0=0.0003' and 'momentum=0.937' and determining best 'optimizer', 'lr0' and 'momentum' automatically... \n",
            "\u001b[34m\u001b[1moptimizer:\u001b[0m AdamW(lr=0.000909, momentum=0.9) with parameter groups 77 weight(decay=0.0), 84 weight(decay=0.0005), 83 bias(decay=0.0)\n",
            "Image sizes 640 train, 640 val\n",
            "Using 2 dataloader workers\n",
            "Logging results to \u001b[1m/content/runs/detect/train\u001b[0m\n",
            "Starting training for 30 epochs...\n",
            "\n",
            "      Epoch    GPU_mem   box_loss   cls_loss   dfl_loss  Instances       Size\n",
            "\u001b[K       1/30      6.31G     0.9654      2.013      1.171         61        640: 100% ━━━━━━━━━━━━ 111/111 1.8it/s 1:01\n",
            "\u001b[K                 Class     Images  Instances      Box(P          R      mAP50  mAP50-95): 100% ━━━━━━━━━━━━ 11/11 2.4it/s 4.5s\n",
            "                   all        338        974      0.679      0.472      0.521      0.377\n",
            "\n",
            "      Epoch    GPU_mem   box_loss   cls_loss   dfl_loss  Instances       Size\n",
            "\u001b[K       2/30      6.66G       1.09      1.431      1.243         61        640: 100% ━━━━━━━━━━━━ 111/111 1.9it/s 59.2s\n",
            "\u001b[K                 Class     Images  Instances      Box(P          R      mAP50  mAP50-95): 100% ━━━━━━━━━━━━ 11/11 3.7it/s 3.0s\n",
            "                   all        338        974      0.678      0.451      0.492      0.358\n",
            "\n",
            "      Epoch    GPU_mem   box_loss   cls_loss   dfl_loss  Instances       Size\n",
            "\u001b[K       3/30      6.72G      1.157      1.407      1.282         52        640: 100% ━━━━━━━━━━━━ 111/111 1.9it/s 58.6s\n",
            "\u001b[K                 Class     Images  Instances      Box(P          R      mAP50  mAP50-95): 100% ━━━━━━━━━━━━ 11/11 3.8it/s 2.9s\n",
            "                   all        338        974      0.686      0.489      0.544      0.375\n",
            "\n",
            "      Epoch    GPU_mem   box_loss   cls_loss   dfl_loss  Instances       Size\n",
            "\u001b[K       4/30      6.72G      1.149      1.346      1.284         29        640: 100% ━━━━━━━━━━━━ 111/111 1.9it/s 58.9s\n",
            "\u001b[K                 Class     Images  Instances      Box(P          R      mAP50  mAP50-95): 100% ━━━━━━━━━━━━ 11/11 3.6it/s 3.1s\n",
            "                   all        338        974      0.713       0.47      0.523      0.375\n",
            "\n",
            "      Epoch    GPU_mem   box_loss   cls_loss   dfl_loss  Instances       Size\n",
            "\u001b[K       5/30      6.72G      1.089      1.243      1.241         63        640: 100% ━━━━━━━━━━━━ 111/111 1.9it/s 58.4s\n",
            "\u001b[K                 Class     Images  Instances      Box(P          R      mAP50  mAP50-95): 100% ━━━━━━━━━━━━ 11/11 3.8it/s 2.9s\n",
            "                   all        338        974      0.769      0.534      0.595      0.443\n",
            "\n",
            "      Epoch    GPU_mem   box_loss   cls_loss   dfl_loss  Instances       Size\n",
            "\u001b[K       6/30      6.79G      1.067      1.186      1.213         49        640: 100% ━━━━━━━━━━━━ 111/111 1.9it/s 58.7s\n",
            "\u001b[K                 Class     Images  Instances      Box(P          R      mAP50  mAP50-95): 100% ━━━━━━━━━━━━ 11/11 3.8it/s 2.9s\n",
            "                   all        338        974      0.733      0.527      0.588      0.426\n",
            "\n",
            "      Epoch    GPU_mem   box_loss   cls_loss   dfl_loss  Instances       Size\n",
            "\u001b[K       7/30      6.86G      1.021      1.101      1.192         56        640: 100% ━━━━━━━━━━━━ 111/111 1.9it/s 59.2s\n",
            "\u001b[K                 Class     Images  Instances      Box(P          R      mAP50  mAP50-95): 100% ━━━━━━━━━━━━ 11/11 3.7it/s 3.0s\n",
            "                   all        338        974      0.759      0.568      0.611       0.46\n",
            "\n",
            "      Epoch    GPU_mem   box_loss   cls_loss   dfl_loss  Instances       Size\n",
            "\u001b[K       8/30      6.86G     0.9959      1.058      1.166         34        640: 100% ━━━━━━━━━━━━ 111/111 1.9it/s 58.4s\n",
            "\u001b[K                 Class     Images  Instances      Box(P          R      mAP50  mAP50-95): 100% ━━━━━━━━━━━━ 11/11 3.7it/s 3.0s\n",
            "                   all        338        974      0.745      0.566       0.62      0.463\n",
            "\n",
            "      Epoch    GPU_mem   box_loss   cls_loss   dfl_loss  Instances       Size\n",
            "\u001b[K       9/30      6.86G     0.9652      1.039      1.162         38        640: 100% ━━━━━━━━━━━━ 111/111 1.9it/s 58.6s\n",
            "\u001b[K                 Class     Images  Instances      Box(P          R      mAP50  mAP50-95): 100% ━━━━━━━━━━━━ 11/11 3.8it/s 2.9s\n",
            "                   all        338        974       0.82       0.58       0.65      0.488\n",
            "\n",
            "      Epoch    GPU_mem   box_loss   cls_loss   dfl_loss  Instances       Size\n",
            "\u001b[K      10/30      6.86G     0.9454     0.9765      1.147         62        640: 100% ━━━━━━━━━━━━ 111/111 1.9it/s 58.5s\n",
            "\u001b[K                 Class     Images  Instances      Box(P          R      mAP50  mAP50-95): 100% ━━━━━━━━━━━━ 11/11 3.5it/s 3.1s\n",
            "                   all        338        974       0.86      0.601      0.681      0.512\n",
            "\n",
            "      Epoch    GPU_mem   box_loss   cls_loss   dfl_loss  Instances       Size\n",
            "\u001b[K      11/30      6.86G     0.8852     0.9132      1.106         29        640: 100% ━━━━━━━━━━━━ 111/111 1.9it/s 58.8s\n",
            "\u001b[K                 Class     Images  Instances      Box(P          R      mAP50  mAP50-95): 100% ━━━━━━━━━━━━ 11/11 3.4it/s 3.3s\n",
            "                   all        338        974      0.844      0.615      0.687      0.523\n",
            "\n",
            "      Epoch    GPU_mem   box_loss   cls_loss   dfl_loss  Instances       Size\n",
            "\u001b[K      12/30      6.86G     0.8811     0.8961      1.102         37        640: 100% ━━━━━━━━━━━━ 111/111 1.9it/s 59.2s\n",
            "\u001b[K                 Class     Images  Instances      Box(P          R      mAP50  mAP50-95): 100% ━━━━━━━━━━━━ 11/11 3.9it/s 2.9s\n",
            "                   all        338        974       0.87      0.618      0.702      0.532\n",
            "\n",
            "      Epoch    GPU_mem   box_loss   cls_loss   dfl_loss  Instances       Size\n",
            "\u001b[K      13/30      6.86G     0.8645     0.8535      1.102         45        640: 100% ━━━━━━━━━━━━ 111/111 1.9it/s 58.9s\n",
            "\u001b[K                 Class     Images  Instances      Box(P          R      mAP50  mAP50-95): 100% ━━━━━━━━━━━━ 11/11 3.7it/s 3.0s\n",
            "                   all        338        974      0.854      0.635      0.713       0.55\n",
            "\n",
            "      Epoch    GPU_mem   box_loss   cls_loss   dfl_loss  Instances       Size\n",
            "\u001b[K      14/30      6.86G     0.8245     0.8216      1.081         45        640: 100% ━━━━━━━━━━━━ 111/111 1.9it/s 59.0s\n",
            "\u001b[K                 Class     Images  Instances      Box(P          R      mAP50  mAP50-95): 100% ━━━━━━━━━━━━ 11/11 3.7it/s 3.0s\n",
            "                   all        338        974      0.853      0.663      0.727       0.56\n",
            "\n",
            "      Epoch    GPU_mem   box_loss   cls_loss   dfl_loss  Instances       Size\n",
            "\u001b[K      15/30      6.86G     0.8246     0.7925      1.083         39        640: 100% ━━━━━━━━━━━━ 111/111 1.9it/s 58.7s\n",
            "\u001b[K                 Class     Images  Instances      Box(P          R      mAP50  mAP50-95): 100% ━━━━━━━━━━━━ 11/11 3.8it/s 2.9s\n",
            "                   all        338        974      0.888       0.65      0.729      0.558\n",
            "\n",
            "      Epoch    GPU_mem   box_loss   cls_loss   dfl_loss  Instances       Size\n",
            "\u001b[K      16/30      6.86G     0.8112     0.7757      1.074         63        640: 100% ━━━━━━━━━━━━ 111/111 1.9it/s 58.9s\n",
            "\u001b[K                 Class     Images  Instances      Box(P          R      mAP50  mAP50-95): 100% ━━━━━━━━━━━━ 11/11 3.9it/s 2.8s\n",
            "                   all        338        974      0.856      0.657      0.729      0.572\n",
            "\n",
            "      Epoch    GPU_mem   box_loss   cls_loss   dfl_loss  Instances       Size\n",
            "\u001b[K      17/30      6.86G     0.7895     0.7753      1.059         65        640: 100% ━━━━━━━━━━━━ 111/111 1.9it/s 58.7s\n",
            "\u001b[K                 Class     Images  Instances      Box(P          R      mAP50  mAP50-95): 100% ━━━━━━━━━━━━ 11/11 3.5it/s 3.2s\n",
            "                   all        338        974      0.869      0.653      0.726      0.576\n",
            "\n",
            "      Epoch    GPU_mem   box_loss   cls_loss   dfl_loss  Instances       Size\n",
            "\u001b[K      18/30      6.86G     0.7643     0.7225      1.053         56        640: 100% ━━━━━━━━━━━━ 111/111 1.9it/s 58.3s\n",
            "\u001b[K                 Class     Images  Instances      Box(P          R      mAP50  mAP50-95): 100% ━━━━━━━━━━━━ 11/11 3.9it/s 2.9s\n",
            "                   all        338        974      0.845      0.685      0.747      0.587\n",
            "\n",
            "      Epoch    GPU_mem   box_loss   cls_loss   dfl_loss  Instances       Size\n",
            "\u001b[K      19/30      6.86G     0.7432     0.6967      1.036         54        640: 100% ━━━━━━━━━━━━ 111/111 1.9it/s 58.9s\n",
            "\u001b[K                 Class     Images  Instances      Box(P          R      mAP50  mAP50-95): 100% ━━━━━━━━━━━━ 11/11 3.4it/s 3.2s\n",
            "                   all        338        974      0.892       0.69      0.754        0.6\n",
            "\n",
            "      Epoch    GPU_mem   box_loss   cls_loss   dfl_loss  Instances       Size\n",
            "\u001b[K      20/30      6.86G     0.7349     0.6921      1.028         43        640: 100% ━━━━━━━━━━━━ 111/111 1.9it/s 59.0s\n",
            "\u001b[K                 Class     Images  Instances      Box(P          R      mAP50  mAP50-95): 100% ━━━━━━━━━━━━ 11/11 3.8it/s 2.9s\n",
            "                   all        338        974      0.869      0.683      0.758      0.602\n",
            "Closing dataloader mosaic\n",
            "\u001b[34m\u001b[1malbumentations: \u001b[0mBlur(p=0.01, blur_limit=(3, 7)), MedianBlur(p=0.01, blur_limit=(3, 7)), ToGray(p=0.01, method='weighted_average', num_output_channels=3), CLAHE(p=0.01, clip_limit=(1.0, 4.0), tile_grid_size=(8, 8))\n",
            "\n",
            "      Epoch    GPU_mem   box_loss   cls_loss   dfl_loss  Instances       Size\n",
            "\u001b[K      21/30      6.86G     0.6039     0.5589      0.935         37        640: 100% ━━━━━━━━━━━━ 111/111 1.9it/s 59.3s\n",
            "\u001b[K                 Class     Images  Instances      Box(P          R      mAP50  mAP50-95): 100% ━━━━━━━━━━━━ 11/11 3.9it/s 2.8s\n",
            "                   all        338        974      0.874      0.677      0.748        0.6\n",
            "\n",
            "      Epoch    GPU_mem   box_loss   cls_loss   dfl_loss  Instances       Size\n",
            "\u001b[K      22/30      6.86G     0.5875     0.5321     0.9201         21        640: 100% ━━━━━━━━━━━━ 111/111 1.9it/s 58.0s\n",
            "\u001b[K                 Class     Images  Instances      Box(P          R      mAP50  mAP50-95): 100% ━━━━━━━━━━━━ 11/11 3.9it/s 2.8s\n",
            "                   all        338        974       0.88      0.681      0.745      0.605\n",
            "\n",
            "      Epoch    GPU_mem   box_loss   cls_loss   dfl_loss  Instances       Size\n",
            "\u001b[K      23/30      6.86G     0.5723     0.4947     0.9138         25        640: 100% ━━━━━━━━━━━━ 111/111 1.9it/s 58.0s\n",
            "\u001b[K                 Class     Images  Instances      Box(P          R      mAP50  mAP50-95): 100% ━━━━━━━━━━━━ 11/11 3.8it/s 2.9s\n",
            "                   all        338        974      0.915      0.669      0.763      0.612\n",
            "\n",
            "      Epoch    GPU_mem   box_loss   cls_loss   dfl_loss  Instances       Size\n",
            "\u001b[K      24/30      6.86G     0.5681     0.4807     0.9167         35        640: 100% ━━━━━━━━━━━━ 111/111 1.9it/s 58.3s\n",
            "\u001b[K                 Class     Images  Instances      Box(P          R      mAP50  mAP50-95): 100% ━━━━━━━━━━━━ 11/11 3.8it/s 2.9s\n",
            "                   all        338        974      0.884      0.684      0.762      0.619\n",
            "\n",
            "      Epoch    GPU_mem   box_loss   cls_loss   dfl_loss  Instances       Size\n",
            "\u001b[K      25/30      6.86G     0.5391     0.4579     0.9082         19        640: 100% ━━━━━━━━━━━━ 111/111 1.9it/s 58.3s\n",
            "\u001b[K                 Class     Images  Instances      Box(P          R      mAP50  mAP50-95): 100% ━━━━━━━━━━━━ 11/11 3.9it/s 2.8s\n",
            "                   all        338        974      0.898      0.687      0.758      0.621\n",
            "\n",
            "      Epoch    GPU_mem   box_loss   cls_loss   dfl_loss  Instances       Size\n",
            "\u001b[K      26/30      6.86G     0.5307     0.4333     0.8904         20        640: 100% ━━━━━━━━━━━━ 111/111 1.9it/s 58.1s\n",
            "\u001b[K                 Class     Images  Instances      Box(P          R      mAP50  mAP50-95): 100% ━━━━━━━━━━━━ 11/11 3.6it/s 3.0s\n",
            "                   all        338        974      0.923      0.695      0.772      0.635\n",
            "\n",
            "      Epoch    GPU_mem   box_loss   cls_loss   dfl_loss  Instances       Size\n",
            "\u001b[K      27/30      6.86G     0.5116     0.4186     0.8827         36        640: 100% ━━━━━━━━━━━━ 111/111 1.9it/s 57.8s\n",
            "\u001b[K                 Class     Images  Instances      Box(P          R      mAP50  mAP50-95): 100% ━━━━━━━━━━━━ 11/11 3.9it/s 2.9s\n",
            "                   all        338        974      0.907      0.706      0.776      0.642\n",
            "\n",
            "      Epoch    GPU_mem   box_loss   cls_loss   dfl_loss  Instances       Size\n",
            "\u001b[K      28/30      6.86G      0.492     0.4054     0.8772         25        640: 100% ━━━━━━━━━━━━ 111/111 1.9it/s 57.8s\n",
            "\u001b[K                 Class     Images  Instances      Box(P          R      mAP50  mAP50-95): 100% ━━━━━━━━━━━━ 11/11 3.8it/s 2.9s\n",
            "                   all        338        974      0.927      0.692      0.775      0.644\n",
            "\n",
            "      Epoch    GPU_mem   box_loss   cls_loss   dfl_loss  Instances       Size\n",
            "\u001b[K      29/30      6.86G     0.4806     0.3802     0.8705         32        640: 100% ━━━━━━━━━━━━ 111/111 1.9it/s 58.2s\n",
            "\u001b[K                 Class     Images  Instances      Box(P          R      mAP50  mAP50-95): 100% ━━━━━━━━━━━━ 11/11 3.8it/s 2.9s\n",
            "                   all        338        974      0.936      0.691       0.78      0.646\n",
            "\n",
            "      Epoch    GPU_mem   box_loss   cls_loss   dfl_loss  Instances       Size\n",
            "\u001b[K      30/30      6.86G     0.4709     0.3669     0.8642         24        640: 100% ━━━━━━━━━━━━ 111/111 1.9it/s 58.1s\n",
            "\u001b[K                 Class     Images  Instances      Box(P          R      mAP50  mAP50-95): 100% ━━━━━━━━━━━━ 11/11 3.7it/s 3.0s\n",
            "                   all        338        974      0.917      0.706      0.781      0.651\n",
            "\n",
            "30 epochs completed in 0.561 hours.\n",
            "Optimizer stripped from /content/runs/detect/train/weights/last.pt, 52.0MB\n",
            "Optimizer stripped from /content/runs/detect/train/weights/best.pt, 52.0MB\n",
            "\n",
            "Validating /content/runs/detect/train/weights/best.pt...\n",
            "Ultralytics 8.3.214 🚀 Python-3.12.12 torch-2.8.0+cu126 CUDA:0 (Tesla T4, 15095MiB)\n",
            "Model summary (fused): 92 layers, 25,843,813 parameters, 0 gradients, 78.7 GFLOPs\n",
            "\u001b[K                 Class     Images  Instances      Box(P          R      mAP50  mAP50-95): 100% ━━━━━━━━━━━━ 11/11 1.6it/s 7.0s\n",
            "                   all        338        974      0.889      0.704      0.775      0.644\n",
            "            OxygenTank        141        242       0.87      0.781      0.823      0.706\n",
            "          NitrogenTank        151        262      0.876      0.728       0.81      0.717\n",
            "           FirstAidBox         92        129      0.876       0.69      0.788      0.699\n",
            "             FireAlarm         54         64      0.885      0.703      0.773      0.608\n",
            "     SafetySwitchPanel         66         81      0.931      0.704      0.769       0.61\n",
            "        EmergencyPhone         57         67      0.854      0.567      0.621      0.449\n",
            "      FireExtinguisher        103        129      0.933      0.757      0.842      0.721\n",
            "Speed: 0.2ms preprocess, 14.6ms inference, 0.0ms loss, 1.8ms postprocess per image\n",
            "Results saved to \u001b[1m/content/runs/detect/train\u001b[0m\n",
            "✅ Training completed!\n"
          ]
        }
      ]
    },
    {
      "cell_type": "code",
      "source": [
        "metrics = model.val(data_yaml_path, batch=BATCH, imgsz=IMGSZ)\n",
        "print(\"✅ Validation metrics:\", metrics)\n",
        "\n",
        "# 🔹 9️⃣ Visualize predictions (sample 5 images from test)\n",
        "import cv2, matplotlib.pyplot as plt\n",
        "test_images = sorted(os.listdir(data_yaml_content['test']))[:5]\n",
        "\n",
        "for img_name in test_images:\n",
        "    img_path = os.path.join(data_yaml_content['test'], img_name)\n",
        "    results = model.predict(img_path, imgsz=IMGSZ, conf=0.25, save=False)\n",
        "    img = cv2.imread(img_path)\n",
        "    img = cv2.cvtColor(img, cv2.COLOR_BGR2RGB)\n",
        "    annotated_img = results[0].plot()\n",
        "    plt.figure(figsize=(8,6))\n",
        "    plt.imshow(annotated_img)\n",
        "    plt.title(img_name)\n",
        "    plt.axis('off')\n",
        "    plt.show()"
      ],
      "metadata": {
        "id": "v8gmYCl16yY3"
      },
      "execution_count": null,
      "outputs": []
    }
  ]
}